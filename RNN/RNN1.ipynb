{
 "cells": [
  {
   "cell_type": "code",
   "execution_count": 1,
   "id": "c497e2d2",
   "metadata": {},
   "outputs": [
    {
     "name": "stderr",
     "output_type": "stream",
     "text": [
      "C:\\Users\\karth\\anaconda3\\lib\\site-packages\\scipy\\__init__.py:155: UserWarning: A NumPy version >=1.18.5 and <1.25.0 is required for this version of SciPy (detected version 1.26.4\n",
      "  warnings.warn(f\"A NumPy version >={np_minversion} and <{np_maxversion}\"\n"
     ]
    },
    {
     "name": "stdout",
     "output_type": "stream",
     "text": [
      "WARNING:tensorflow:From C:\\Users\\karth\\anaconda3\\lib\\site-packages\\keras\\src\\losses.py:2976: The name tf.losses.sparse_softmax_cross_entropy is deprecated. Please use tf.compat.v1.losses.sparse_softmax_cross_entropy instead.\n",
      "\n"
     ]
    }
   ],
   "source": [
    "import pandas as pd\n",
    "import tensorflow as tf\n",
    "import numpy as np\n",
    "import matplotlib.pyplot as plt"
   ]
  },
  {
   "cell_type": "markdown",
   "id": "19b16c2f",
   "metadata": {},
   "source": [
    "# Understanding the data"
   ]
  },
  {
   "cell_type": "code",
   "execution_count": 12,
   "id": "9a891979",
   "metadata": {},
   "outputs": [],
   "source": [
    "(x_train,y_train) , (x_test,y_test) = tf.keras.datasets.imdb.load_data()"
   ]
  },
  {
   "cell_type": "code",
   "execution_count": 13,
   "id": "484b73d1",
   "metadata": {},
   "outputs": [
    {
     "data": {
      "text/plain": [
       "(25000,)"
      ]
     },
     "execution_count": 13,
     "metadata": {},
     "output_type": "execute_result"
    }
   ],
   "source": [
    "x_train.shape"
   ]
  },
  {
   "cell_type": "code",
   "execution_count": 14,
   "id": "0ac3ec3a",
   "metadata": {},
   "outputs": [
    {
     "data": {
      "text/plain": [
       "218"
      ]
     },
     "execution_count": 14,
     "metadata": {},
     "output_type": "execute_result"
    }
   ],
   "source": [
    "len(x_train[0])"
   ]
  },
  {
   "cell_type": "code",
   "execution_count": 15,
   "id": "da97b10c",
   "metadata": {},
   "outputs": [
    {
     "data": {
      "text/plain": [
       "189"
      ]
     },
     "execution_count": 15,
     "metadata": {},
     "output_type": "execute_result"
    }
   ],
   "source": [
    "len(x_train[1])"
   ]
  },
  {
   "cell_type": "code",
   "execution_count": 48,
   "id": "e8b3320d",
   "metadata": {},
   "outputs": [
    {
     "name": "stdout",
     "output_type": "stream",
     "text": [
      "2494 2315\n"
     ]
    }
   ],
   "source": [
    "a = [len(x) for x in x_train]\n",
    "b = [len(y) for y in x_test]\n",
    "print(max(a),max(b))\n",
    "c = max(max(a),max(b))"
   ]
  },
  {
   "cell_type": "markdown",
   "id": "3a45db5f",
   "metadata": {},
   "source": [
    "# padding the data to make the data same length"
   ]
  },
  {
   "cell_type": "code",
   "execution_count": 37,
   "id": "ca7100af",
   "metadata": {},
   "outputs": [],
   "source": [
    "from keras.utils import pad_sequences"
   ]
  },
  {
   "cell_type": "code",
   "execution_count": 83,
   "id": "0d03a41a",
   "metadata": {},
   "outputs": [],
   "source": [
    "x_train_padded = pad_sequences(x_train,padding='post',maxlen=c)\n",
    "x_test_padded = pad_sequences(x_test,padding='post',maxlen=c)"
   ]
  },
  {
   "cell_type": "code",
   "execution_count": 84,
   "id": "c26856bd",
   "metadata": {},
   "outputs": [
    {
     "data": {
      "text/plain": [
       "array([[    1,    14,    22, ...,     0,     0,     0],\n",
       "       [    1,   194,  1153, ...,     0,     0,     0],\n",
       "       [    1,    14,    47, ...,     0,     0,     0],\n",
       "       [    1,     4, 18609, ...,     0,     0,     0],\n",
       "       [    1,   249,  1323, ...,     0,     0,     0]])"
      ]
     },
     "execution_count": 84,
     "metadata": {},
     "output_type": "execute_result"
    }
   ],
   "source": [
    "x_train_padded[0:5]"
   ]
  },
  {
   "cell_type": "code",
   "execution_count": 51,
   "id": "818b70eb",
   "metadata": {},
   "outputs": [
    {
     "data": {
      "text/plain": [
       "(25000, 2494)"
      ]
     },
     "execution_count": 51,
     "metadata": {},
     "output_type": "execute_result"
    }
   ],
   "source": [
    "x_train_padded.shape"
   ]
  },
  {
   "cell_type": "code",
   "execution_count": 52,
   "id": "d7701610",
   "metadata": {},
   "outputs": [
    {
     "data": {
      "text/plain": [
       "(25000, 2494)"
      ]
     },
     "execution_count": 52,
     "metadata": {},
     "output_type": "execute_result"
    }
   ],
   "source": [
    "x_test_padded.shape"
   ]
  },
  {
   "cell_type": "code",
   "execution_count": 53,
   "id": "02c65958",
   "metadata": {},
   "outputs": [
    {
     "data": {
      "text/plain": [
       "(25000,)"
      ]
     },
     "execution_count": 53,
     "metadata": {},
     "output_type": "execute_result"
    }
   ],
   "source": [
    "y_train.shape"
   ]
  },
  {
   "cell_type": "code",
   "execution_count": 44,
   "id": "1a31630e",
   "metadata": {},
   "outputs": [
    {
     "data": {
      "text/plain": [
       "array([1, 0, 0, 1, 0], dtype=int64)"
      ]
     },
     "execution_count": 44,
     "metadata": {},
     "output_type": "execute_result"
    }
   ],
   "source": [
    "y_train[0:5]"
   ]
  },
  {
   "cell_type": "markdown",
   "id": "3dd9b1cd",
   "metadata": {},
   "source": [
    "# Defining the model"
   ]
  },
  {
   "cell_type": "code",
   "execution_count": 57,
   "id": "aa3552f2",
   "metadata": {},
   "outputs": [
    {
     "name": "stdout",
     "output_type": "stream",
     "text": [
      "Model: \"sequential_3\"\n",
      "_________________________________________________________________\n",
      " Layer (type)                Output Shape              Param #   \n",
      "=================================================================\n",
      " simple_rnn_2 (SimpleRNN)    (None, 32)                1088      \n",
      "                                                                 \n",
      " dense_2 (Dense)             (None, 1)                 33        \n",
      "                                                                 \n",
      "=================================================================\n",
      "Total params: 1121 (4.38 KB)\n",
      "Trainable params: 1121 (4.38 KB)\n",
      "Non-trainable params: 0 (0.00 Byte)\n",
      "_________________________________________________________________\n"
     ]
    }
   ],
   "source": [
    "rnn = tf.keras.Sequential([\n",
    "    tf.keras.layers.SimpleRNN(units=32, input_shape=(c,1),return_sequences=False),\n",
    "    tf.keras.layers.Dense(units=1,activation='sigmoid'),\n",
    "])\n",
    "rnn.summary()"
   ]
  },
  {
   "cell_type": "markdown",
   "id": "6860024e",
   "metadata": {},
   "source": [
    "# Compiling and fitting the model"
   ]
  },
  {
   "cell_type": "code",
   "execution_count": 60,
   "id": "75966a84",
   "metadata": {},
   "outputs": [
    {
     "name": "stdout",
     "output_type": "stream",
     "text": [
      "Epoch 1/5\n",
      "782/782 [==============================] - 496s 632ms/step - loss: 0.6942 - accuracy: 0.4974\n",
      "Epoch 2/5\n",
      "782/782 [==============================] - 346s 443ms/step - loss: 0.6941 - accuracy: 0.5000\n",
      "Epoch 3/5\n",
      "782/782 [==============================] - 339s 434ms/step - loss: 0.6939 - accuracy: 0.4991\n",
      "Epoch 4/5\n",
      "782/782 [==============================] - 360s 461ms/step - loss: 0.6940 - accuracy: 0.5013\n",
      "Epoch 5/5\n",
      "782/782 [==============================] - 282s 360ms/step - loss: 0.6938 - accuracy: 0.5007\n"
     ]
    },
    {
     "data": {
      "text/plain": [
       "<keras.src.callbacks.History at 0x2126f64f310>"
      ]
     },
     "execution_count": 60,
     "metadata": {},
     "output_type": "execute_result"
    }
   ],
   "source": [
    "rnn.compile(\n",
    "    loss='binary_crossentropy',\n",
    "    optimizer='adam',\n",
    "    metrics=['accuracy']\n",
    ")\n",
    "rnn.fit(x_train_padded,y_train,epochs=5)"
   ]
  },
  {
   "cell_type": "markdown",
   "id": "e9331d6a",
   "metadata": {},
   "source": [
    "# Accuracy of 1st model - using word encoding only"
   ]
  },
  {
   "cell_type": "code",
   "execution_count": 62,
   "id": "e90357c1",
   "metadata": {},
   "outputs": [
    {
     "name": "stdout",
     "output_type": "stream",
     "text": [
      "782/782 [==============================] - 74s 95ms/step - loss: 0.6932 - accuracy: 0.5000\n"
     ]
    },
    {
     "data": {
      "text/plain": [
       "[0.6931836009025574, 0.5]"
      ]
     },
     "execution_count": 62,
     "metadata": {},
     "output_type": "execute_result"
    }
   ],
   "source": [
    "rnn.evaluate(x_test_padded,y_test)"
   ]
  },
  {
   "cell_type": "markdown",
   "id": "ba2f7897",
   "metadata": {},
   "source": [
    "# padding for only 100 elements\n",
    "#### only first 100 elements are taken"
   ]
  },
  {
   "cell_type": "code",
   "execution_count": 91,
   "id": "ac207edc",
   "metadata": {},
   "outputs": [],
   "source": [
    "x_train_padded1 = pad_sequences(x_train,maxlen=100)\n",
    "x_test_padded1 = pad_sequences(x_test,maxlen=100)\n",
    "highest_encoded_word = max(np.max(x_train_padded1),np.max(x_test_padded1))"
   ]
  },
  {
   "cell_type": "markdown",
   "id": "fe56dbab",
   "metadata": {},
   "source": [
    "# Model 2: word embedding "
   ]
  },
  {
   "cell_type": "code",
   "execution_count": 94,
   "id": "c242cb6b",
   "metadata": {},
   "outputs": [
    {
     "name": "stdout",
     "output_type": "stream",
     "text": [
      "Model: \"sequential_10\"\n",
      "_________________________________________________________________\n",
      " Layer (type)                Output Shape              Param #   \n",
      "=================================================================\n",
      " embedding_6 (Embedding)     (None, 100, 2)            180000    \n",
      "                                                                 \n",
      " simple_rnn_9 (SimpleRNN)    (None, 32)                1120      \n",
      "                                                                 \n",
      " dense_9 (Dense)             (None, 1)                 33        \n",
      "                                                                 \n",
      "=================================================================\n",
      "Total params: 181153 (707.63 KB)\n",
      "Trainable params: 181153 (707.63 KB)\n",
      "Non-trainable params: 0 (0.00 Byte)\n",
      "_________________________________________________________________\n"
     ]
    }
   ],
   "source": [
    "rnn_word_embed = tf.keras.Sequential([\n",
    "    tf.keras.layers.Embedding(90000,2,input_length=100),\n",
    "    tf.keras.layers.SimpleRNN(units=32,return_sequences=False),\n",
    "    tf.keras.layers.Dense(units=1,activation='sigmoid')\n",
    "])\n",
    "\n",
    "rnn_word_embed.summary()"
   ]
  },
  {
   "cell_type": "code",
   "execution_count": 95,
   "id": "efd97a32",
   "metadata": {},
   "outputs": [
    {
     "name": "stdout",
     "output_type": "stream",
     "text": [
      "Epoch 1/5\n",
      "782/782 [==============================] - 18s 21ms/step - loss: 0.6764 - accuracy: 0.5576\n",
      "Epoch 2/5\n",
      "782/782 [==============================] - 15s 20ms/step - loss: 0.5222 - accuracy: 0.7351\n",
      "Epoch 3/5\n",
      "782/782 [==============================] - 15s 19ms/step - loss: 0.3105 - accuracy: 0.8712\n",
      "Epoch 4/5\n",
      "782/782 [==============================] - 16s 20ms/step - loss: 0.2143 - accuracy: 0.9185\n",
      "Epoch 5/5\n",
      "782/782 [==============================] - 16s 20ms/step - loss: 0.1464 - accuracy: 0.9482\n"
     ]
    },
    {
     "data": {
      "text/plain": [
       "<keras.src.callbacks.History at 0x2126eb88b50>"
      ]
     },
     "execution_count": 95,
     "metadata": {},
     "output_type": "execute_result"
    }
   ],
   "source": [
    "rnn_word_embed.compile(\n",
    "loss='binary_crossentropy',\n",
    "optimizer='adam',\n",
    "metrics=['accuracy'])\n",
    "\n",
    "rnn_word_embed.fit(x_train_padded1,y_train,epochs=5)"
   ]
  },
  {
   "cell_type": "markdown",
   "id": "0f288e3a",
   "metadata": {},
   "source": [
    "# Evaluating 2nd model "
   ]
  },
  {
   "cell_type": "code",
   "execution_count": 96,
   "id": "d98b7cd0",
   "metadata": {},
   "outputs": [
    {
     "name": "stdout",
     "output_type": "stream",
     "text": [
      "782/782 [==============================] - 5s 6ms/step - loss: 0.4802 - accuracy: 0.8199\n"
     ]
    },
    {
     "data": {
      "text/plain": [
       "[0.48016291856765747, 0.8198800086975098]"
      ]
     },
     "execution_count": 96,
     "metadata": {},
     "output_type": "execute_result"
    }
   ],
   "source": [
    "rnn_word_embed.evaluate(x_test_padded1,y_test)"
   ]
  }
 ],
 "metadata": {
  "kernelspec": {
   "display_name": "Python 3 (ipykernel)",
   "language": "python",
   "name": "python3"
  },
  "language_info": {
   "codemirror_mode": {
    "name": "ipython",
    "version": 3
   },
   "file_extension": ".py",
   "mimetype": "text/x-python",
   "name": "python",
   "nbconvert_exporter": "python",
   "pygments_lexer": "ipython3",
   "version": "3.9.13"
  }
 },
 "nbformat": 4,
 "nbformat_minor": 5
}
